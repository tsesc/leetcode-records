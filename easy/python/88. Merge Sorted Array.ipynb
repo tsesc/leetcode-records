{
 "metadata": {
  "language_info": {
   "codemirror_mode": {
    "name": "ipython",
    "version": 3
   },
   "file_extension": ".py",
   "mimetype": "text/x-python",
   "name": "python",
   "nbconvert_exporter": "python",
   "pygments_lexer": "ipython3",
   "version": "3.7.4-final"
  },
  "orig_nbformat": 2,
  "kernelspec": {
   "name": "python3",
   "display_name": "Python 3",
   "language": "python"
  }
 },
 "nbformat": 4,
 "nbformat_minor": 2,
 "cells": [
  {
   "cell_type": "code",
   "execution_count": 1,
   "metadata": {},
   "outputs": [],
   "source": [
    "# https://leetcode.com/problems/merge-sorted-array/"
   ]
  },
  {
   "cell_type": "code",
   "execution_count": 7,
   "metadata": {},
   "outputs": [],
   "source": [
    "nums1 = nums2 = [1,2,3,0,0,0]"
   ]
  },
  {
   "cell_type": "code",
   "execution_count": 8,
   "metadata": {},
   "outputs": [
    {
     "output_type": "execute_result",
     "data": {
      "text/plain": [
       "[1, 2, 3, 1, 2, 3]"
      ]
     },
     "metadata": {},
     "execution_count": 8
    }
   ],
   "source": [
    "(nums1[:3] + nums1[:3])"
   ]
  },
  {
   "cell_type": "code",
   "execution_count": 10,
   "metadata": {},
   "outputs": [
    {
     "output_type": "execute_result",
     "data": {
      "text/plain": [
       "[1, 1, 1, 1, 2, 2]"
      ]
     },
     "metadata": {},
     "execution_count": 10
    }
   ],
   "source": [
    "# easy\n",
    "m = n = 3\n",
    "nums1[:] = sorted(nums1[:m] + nums2[:n])\n",
    "nums1"
   ]
  },
  {
   "cell_type": "code",
   "execution_count": null,
   "metadata": {},
   "outputs": [],
   "source": [
    "# non cheating ans\n",
    "while m > 0 and n > 0:\n",
    "    if nums1[m-1] > nums2[n-1]:\n",
    "        nums1[m+n-1] = nums1[m-1]\n",
    "        m -= 1\n",
    "    else:\n",
    "        nums1[m+n-1] = nums2[n-1]\n",
    "        n -= 1\n",
    "while n > 0:\n",
    "    nums1[n-1] = nums2[n-1]\n",
    "    n -= 1\n",
    "    "
   ]
  }
 ]
}