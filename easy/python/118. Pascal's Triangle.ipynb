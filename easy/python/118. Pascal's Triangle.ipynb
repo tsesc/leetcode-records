{
 "metadata": {
  "language_info": {
   "codemirror_mode": {
    "name": "ipython",
    "version": 3
   },
   "file_extension": ".py",
   "mimetype": "text/x-python",
   "name": "python",
   "nbconvert_exporter": "python",
   "pygments_lexer": "ipython3",
   "version": "3.7.4-final"
  },
  "orig_nbformat": 2,
  "kernelspec": {
   "name": "python3",
   "display_name": "Python 3",
   "language": "python"
  }
 },
 "nbformat": 4,
 "nbformat_minor": 2,
 "cells": [
  {
   "cell_type": "code",
   "execution_count": null,
   "metadata": {},
   "outputs": [],
   "source": [
    "# https://leetcode.com/problems/pascals-triangle/"
   ]
  },
  {
   "cell_type": "code",
   "execution_count": 4,
   "metadata": {},
   "outputs": [
    {
     "output_type": "execute_result",
     "data": {
      "text/plain": [
       "[0, 1, 2, 3, 4]"
      ]
     },
     "metadata": {},
     "execution_count": 4
    }
   ],
   "source": [
    "row = list(range(5))\n",
    "row"
   ]
  },
  {
   "cell_type": "code",
   "execution_count": 9,
   "metadata": {},
   "outputs": [
    {
     "output_type": "execute_result",
     "data": {
      "text/plain": [
       "[1, 2, 3]"
      ]
     },
     "metadata": {},
     "execution_count": 9
    }
   ],
   "source": [
    "row[1:-1]"
   ]
  },
  {
   "cell_type": "code",
   "execution_count": 37,
   "metadata": {},
   "outputs": [],
   "source": [
    "def nextRow(preRow):\n",
    "    row = list(range(len(preRow) + 1))\n",
    "    row[0] = 1\n",
    "    row[-1] = 1\n",
    "    for i in row[1:-1]: \n",
    "        row[i] = preRow[i - 1] + preRow[i]\n",
    "        \n",
    "    return row\n",
    "    "
   ]
  },
  {
   "cell_type": "code",
   "execution_count": 40,
   "metadata": {},
   "outputs": [
    {
     "output_type": "execute_result",
     "data": {
      "text/plain": [
       "[1, 4, 6, 4, 1]"
      ]
     },
     "metadata": {},
     "execution_count": 40
    }
   ],
   "source": [
    "nextRow([1,3,3,1])"
   ]
  },
  {
   "cell_type": "code",
   "execution_count": 27,
   "metadata": {},
   "outputs": [],
   "source": [
    "row = list(range(len(preRow) + 1))"
   ]
  },
  {
   "cell_type": "code",
   "execution_count": 35,
   "metadata": {},
   "outputs": [
    {
     "output_type": "execute_result",
     "data": {
      "text/plain": [
       "[1, 1, 1]"
      ]
     },
     "metadata": {},
     "execution_count": 35
    }
   ],
   "source": [
    "row = list(range(len(preRow) + 1))\n",
    "row[0] = 1\n",
    "row[-1] = 1\n",
    "row"
   ]
  },
  {
   "cell_type": "code",
   "execution_count": 43,
   "metadata": {},
   "outputs": [
    {
     "output_type": "stream",
     "name": "stdout",
     "text": [
      "[[1], [1, 1], [1, 2, 1], [1, 3, 3, 1], [1, 4, 6, 4, 1]]\n"
     ]
    }
   ],
   "source": [
    "numRows = 5\n",
    "a = [[1],[1,1]]\n",
    "while numRows != 2: \n",
    "    a.append(nextRow(a[-1]))\n",
    "    numRows -= 1\n",
    "\n",
    "print(a)"
   ]
  },
  {
   "cell_type": "code",
   "execution_count": null,
   "metadata": {},
   "outputs": [],
   "source": [
    "# Time Limit Exceeded\n",
    "# !!!!!!!!!!!!!!!!!!!\n",
    "\n",
    "class Solution:\n",
    "    def generate(self, numRows: int) -> List[List[int]]:\n",
    "        if numRows == 1:\n",
    "            return [[1]]\n",
    "        elif numRows == 2: \n",
    "            return [[1],[1,1]]\n",
    "        else: \n",
    "            a = [[1],[1,1]]\n",
    "            while numRows != 2: \n",
    "                a.append(self.nextRow(a[-1]))\n",
    "                numRows -= 1\n",
    "    \n",
    "            return a\n",
    "    \n",
    "    def nextRow(self, preRow):\n",
    "        row = list(range(len(preRow) + 1))\n",
    "        row[0] = 1\n",
    "        row[-1] = 1\n",
    "        for i in row[1:-1]: \n",
    "            row[i] = preRow[i - 1] + preRow[i]\n",
    "            \n",
    "        return row\n",
    "        "
   ]
  },
  {
   "cell_type": "code",
   "execution_count": 46,
   "metadata": {},
   "outputs": [],
   "source": [
    "numRows = 10"
   ]
  },
  {
   "cell_type": "code",
   "execution_count": 47,
   "metadata": {},
   "outputs": [
    {
     "output_type": "execute_result",
     "data": {
      "text/plain": [
       "[[1],\n",
       " [1, 1],\n",
       " [1, 1, 1],\n",
       " [1, 1, 1, 1],\n",
       " [1, 1, 1, 1, 1],\n",
       " [1, 1, 1, 1, 1, 1],\n",
       " [1, 1, 1, 1, 1, 1, 1],\n",
       " [1, 1, 1, 1, 1, 1, 1, 1],\n",
       " [1, 1, 1, 1, 1, 1, 1, 1, 1],\n",
       " [1, 1, 1, 1, 1, 1, 1, 1, 1, 1]]"
      ]
     },
     "metadata": {},
     "execution_count": 47
    }
   ],
   "source": [
    "    pascal = [[1]*(i+1) for i in range(numRows)]\n",
    "    pascal\n",
    "    # for i in range(numRows):\n",
    "    #     for j in range(1,i):\n",
    "    #         pascal[i][j] = pascal[i-1][j-1] + pascal[i-1][j]\n",
    "    # return pascal"
   ]
  },
  {
   "cell_type": "code",
   "execution_count": 52,
   "metadata": {},
   "outputs": [
    {
     "output_type": "stream",
     "name": "stdout",
     "text": [
      "1\n2\n3\n4\n"
     ]
    }
   ],
   "source": [
    "for i in range(1,5):\n",
    "    print(i)"
   ]
  },
  {
   "cell_type": "code",
   "execution_count": null,
   "metadata": {},
   "outputs": [],
   "source": [
    "    pascal = [[1]*(i+1) for i in range(numRows)]\n",
    "    for i in range(numRows):\n",
    "        for j in range(1,i):\n",
    "            pascal[i][j] = pascal[i-1][j-1] + pascal[i-1][j]\n",
    "    return pascal"
   ]
  }
 ]
}