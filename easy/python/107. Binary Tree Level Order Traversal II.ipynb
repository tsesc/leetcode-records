{
 "metadata": {
  "language_info": {
   "codemirror_mode": {
    "name": "ipython",
    "version": 3
   },
   "file_extension": ".py",
   "mimetype": "text/x-python",
   "name": "python",
   "nbconvert_exporter": "python",
   "pygments_lexer": "ipython3",
   "version": "3.7.6-final"
  },
  "orig_nbformat": 2,
  "kernelspec": {
   "name": "python3",
   "display_name": "Python 3",
   "language": "python"
  }
 },
 "nbformat": 4,
 "nbformat_minor": 2,
 "cells": [
  {
   "cell_type": "code",
   "execution_count": null,
   "metadata": {},
   "outputs": [],
   "source": [
    "# https://leetcode.com/problems/binary-tree-level-order-traversal-ii/"
   ]
  },
  {
   "cell_type": "code",
   "execution_count": 10,
   "metadata": {},
   "outputs": [
    {
     "output_type": "stream",
     "name": "stdout",
     "text": [
      "[9, 20, 3]\n"
     ]
    }
   ],
   "source": [
    "a = [[3]]\n",
    "b = [[9, 20]]\n",
    "c = b+ a\n",
    "print(c)"
   ]
  },
  {
   "cell_type": "code",
   "execution_count": null,
   "metadata": {},
   "outputs": [],
   "source": [
    "# Definition for a binary tree node.\n",
    "# class TreeNode:\n",
    "#     def __init__(self, val=0, left=None, right=None):\n",
    "#         self.val = val\n",
    "#         self.left = left\n",
    "#         self.right = right\n",
    "class Solution:\n",
    "    def levelOrderBottom(self, root: TreeNode) -> List[List[int]]:\n",
    "        res = []\n",
    "        self.dfs(root, 0, res)\n",
    "        return res\n",
    "    \n",
    "    def dfs(self, root, level, res):\n",
    "        while root: \n",
    "            if len(res) < level + 1:\n",
    "                res.insert(0, [])\n",
    "            res[-(level+1)].append(root.val)\n",
    "            self.dfs(root.left, level+1, res)\n",
    "            self.dfs(root.right, level+1, res)\n"
   ]
  }
 ]
}