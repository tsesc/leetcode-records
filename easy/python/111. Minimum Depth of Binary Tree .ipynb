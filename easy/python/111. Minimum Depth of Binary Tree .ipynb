{
 "metadata": {
  "language_info": {
   "codemirror_mode": {
    "name": "ipython",
    "version": 3
   },
   "file_extension": ".py",
   "mimetype": "text/x-python",
   "name": "python",
   "nbconvert_exporter": "python",
   "pygments_lexer": "ipython3",
   "version": 3
  },
  "orig_nbformat": 2
 },
 "nbformat": 4,
 "nbformat_minor": 2,
 "cells": [
  {
   "cell_type": "code",
   "execution_count": null,
   "metadata": {},
   "outputs": [],
   "source": [
    "# https://leetcode.com/problems/minimum-depth-of-binary-tree/"
   ]
  },
  {
   "cell_type": "code",
   "execution_count": null,
   "metadata": {},
   "outputs": [],
   "source": [
    "# Definition for a binary tree node.\n",
    "# class TreeNode:\n",
    "#     def __init__(self, val=0, left=None, right=None):\n",
    "#         self.val = val\n",
    "#         self.left = left\n",
    "#         self.right = right\n",
    "class Solution:\n",
    "    def minDepth(self, root: TreeNode) -> int:\n",
    "        if not root:\n",
    "            return 0\n",
    "        else:\n",
    "            if root.left is None:\n",
    "                return self.minDepth(root.right) + 1\n",
    "            elif root.right is None:\n",
    "                return self.minDepth(root.left) + 1\n",
    "            else:\n",
    "                return min(self.minDepth(root.left), self.minDepth(root.right)) + 1"
   ]
  },
  {
   "cell_type": "code",
   "execution_count": null,
   "metadata": {},
   "outputs": [],
   "source": [
    "def minDepth(self, root):\n",
    "    if not root:\n",
    "        return 0\n",
    "    queue = collections.deque([(root, 1)])\n",
    "    while queue:\n",
    "        node, level = queue.popleft()\n",
    "        if node:\n",
    "            if not node.left and not node.right:\n",
    "                return level\n",
    "            else:\n",
    "                queue.append((node.left, level+1))\n",
    "                queue.append((node.right, level+1))"
   ]
  }
 ]
}