{
 "metadata": {
  "language_info": {
   "codemirror_mode": {
    "name": "ipython",
    "version": 3
   },
   "file_extension": ".py",
   "mimetype": "text/x-python",
   "name": "python",
   "nbconvert_exporter": "python",
   "pygments_lexer": "ipython3",
   "version": "3.7.6-final"
  },
  "orig_nbformat": 2,
  "kernelspec": {
   "name": "python3",
   "display_name": "Python 3",
   "language": "python"
  }
 },
 "nbformat": 4,
 "nbformat_minor": 2,
 "cells": [
  {
   "cell_type": "code",
   "execution_count": 1,
   "metadata": {},
   "outputs": [],
   "source": [
    "# https://leetcode.com/problems/add-binary/"
   ]
  },
  {
   "cell_type": "code",
   "execution_count": 2,
   "metadata": {},
   "outputs": [
    {
     "output_type": "execute_result",
     "data": {
      "text/plain": [
       "['1', '1']"
      ]
     },
     "metadata": {},
     "execution_count": 2
    }
   ],
   "source": [
    "class Solution:\n",
    "    def addBinary(self, a: str, b: str) -> str:\n",
    "        return bin(int(a, 2) + int(b, 2))[2:]"
   ]
  },
  {
   "cell_type": "code",
   "execution_count": 19,
   "metadata": {},
   "outputs": [],
   "source": [
    "class Solution:\n",
    "    def __init__(self, a, b):\n",
    "        self.a = a \n",
    "        self.b = b\n",
    "\n",
    "    def addBinary(self, a, b):\n",
    "        if len(a)==0: return b\n",
    "        if len(b)==0: return a\n",
    "        if a[-1] == '1' and b[-1] == '1':\n",
    "            return self.addBinary(self.addBinary(a[0:-1],b[0:-1]),'1')+'0'\n",
    "        if a[-1] == '0' and b[-1] == '0':\n",
    "            return self.addBinary(a[0:-1],b[0:-1])+'0'\n",
    "        else:\n",
    "            return self.addBinary(a[0:-1],b[0:-1])+'1'"
   ]
  },
  {
   "cell_type": "code",
   "execution_count": 20,
   "metadata": {},
   "outputs": [
    {
     "output_type": "error",
     "ename": "TypeError",
     "evalue": "addBinary() missing 1 required positional argument: 'b'",
     "traceback": [
      "\u001b[0;31m---------------------------------------------------------------------------\u001b[0m",
      "\u001b[0;31mTypeError\u001b[0m                                 Traceback (most recent call last)",
      "\u001b[0;32m<ipython-input-20-e97345b61205>\u001b[0m in \u001b[0;36m<module>\u001b[0;34m\u001b[0m\n\u001b[0;32m----> 1\u001b[0;31m \u001b[0mSolution\u001b[0m\u001b[0;34m.\u001b[0m\u001b[0maddBinary\u001b[0m\u001b[0;34m(\u001b[0m\u001b[0;34m'1010'\u001b[0m\u001b[0;34m,\u001b[0m \u001b[0;34m'1011'\u001b[0m\u001b[0;34m)\u001b[0m\u001b[0;34m\u001b[0m\u001b[0;34m\u001b[0m\u001b[0m\n\u001b[0m",
      "\u001b[0;31mTypeError\u001b[0m: addBinary() missing 1 required positional argument: 'b'"
     ]
    }
   ],
   "source": [
    "Solution.addBinary('1010', '1011')"
   ]
  },
  {
   "cell_type": "code",
   "execution_count": null,
   "metadata": {},
   "outputs": [],
   "source": []
  }
 ]
}