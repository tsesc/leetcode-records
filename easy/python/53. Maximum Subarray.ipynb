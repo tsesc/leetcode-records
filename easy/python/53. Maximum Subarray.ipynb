{
 "metadata": {
  "language_info": {
   "codemirror_mode": {
    "name": "ipython",
    "version": 3
   },
   "file_extension": ".py",
   "mimetype": "text/x-python",
   "name": "python",
   "nbconvert_exporter": "python",
   "pygments_lexer": "ipython3",
   "version": "3.7.6-final"
  },
  "orig_nbformat": 2,
  "kernelspec": {
   "name": "python3",
   "display_name": "Python 3",
   "language": "python"
  }
 },
 "nbformat": 4,
 "nbformat_minor": 2,
 "cells": [
  {
   "cell_type": "code",
   "execution_count": null,
   "metadata": {},
   "outputs": [],
   "source": [
    "# https://leetcode.com/problems/maximum-subarray/"
   ]
  },
  {
   "cell_type": "code",
   "execution_count": 2,
   "metadata": {},
   "outputs": [],
   "source": [
    "  def maxSubArray(nums) -> int:\n",
    "      pass"
   ]
  },
  {
   "cell_type": "code",
   "execution_count": 18,
   "metadata": {},
   "outputs": [],
   "source": [
    "nums = [-2,1,-3,4,-1,2,1,-5,4]"
   ]
  },
  {
   "cell_type": "code",
   "execution_count": 9,
   "metadata": {},
   "outputs": [
    {
     "output_type": "execute_result",
     "data": {
      "text/plain": [
       "0"
      ]
     },
     "metadata": {},
     "execution_count": 9
    }
   ],
   "source": [
    "current_max = final_max = 0\n",
    "current_max"
   ]
  },
  {
   "cell_type": "code",
   "execution_count": 21,
   "metadata": {},
   "outputs": [
    {
     "output_type": "stream",
     "name": "stdout",
     "text": [
      "num:1, curSum:1, maxSum:1\nnum:-3, curSum:-2, maxSum:1\nnum:4, curSum:4, maxSum:4\nnum:-1, curSum:3, maxSum:4\nnum:2, curSum:5, maxSum:5\nnum:1, curSum:6, maxSum:6\nnum:-5, curSum:1, maxSum:6\nnum:4, curSum:5, maxSum:6\n"
     ]
    }
   ],
   "source": [
    "\n",
    "curSum = maxSum = nums[0]\n",
    "for num in nums[1:]:\n",
    "    curSum = max(num, curSum + num)\n",
    "    maxSum = max(maxSum, curSum)\n",
    "    print(f\"num:{num}, curSum:{curSum}, maxSum:{maxSum}\")\n"
   ]
  },
  {
   "cell_type": "code",
   "execution_count": null,
   "metadata": {},
   "outputs": [],
   "source": [
    "from itertools import accumulate\n",
    "class Solution:\n",
    "    def maxSubArray(self, nums: List[int]) -> int:\n",
    "        return max(accumulate(nums, lambda x, y: max(y, x+y) ))"
   ]
  }
 ]
}