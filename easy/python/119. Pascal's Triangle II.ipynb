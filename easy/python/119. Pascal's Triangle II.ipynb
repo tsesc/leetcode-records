{
 "metadata": {
  "language_info": {
   "codemirror_mode": {
    "name": "ipython",
    "version": 3
   },
   "file_extension": ".py",
   "mimetype": "text/x-python",
   "name": "python",
   "nbconvert_exporter": "python",
   "pygments_lexer": "ipython3",
   "version": "3.7.4-final"
  },
  "orig_nbformat": 2,
  "kernelspec": {
   "name": "python3",
   "display_name": "Python 3",
   "language": "python"
  }
 },
 "nbformat": 4,
 "nbformat_minor": 2,
 "cells": [
  {
   "cell_type": "code",
   "execution_count": null,
   "metadata": {},
   "outputs": [],
   "source": [
    "# https://leetcode.com/problems/pascals-triangle-ii/"
   ]
  },
  {
   "cell_type": "code",
   "execution_count": null,
   "metadata": {},
   "outputs": [],
   "source": [
    "pascal = [[1]*(i+1) for i in range(rowIndex + 1)]\n",
    "for i in range(rowIndex + 1):\n",
    "    for j in range(1,i):\n",
    "        pascal[i][j] = pascal[i-1][j-1] + pascal[i-1][j]\n",
    "        \n",
    "print(rowIndex)                    \n",
    "print(pascal)\n",
    "return pascal[rowIndex]"
   ]
  },
  {
   "cell_type": "code",
   "execution_count": 12,
   "metadata": {},
   "outputs": [],
   "source": [
    "currentRow = [1,2,1]"
   ]
  },
  {
   "cell_type": "code",
   "execution_count": 13,
   "metadata": {},
   "outputs": [],
   "source": [
    "currentRow.append(1)"
   ]
  },
  {
   "cell_type": "code",
   "execution_count": 18,
   "metadata": {},
   "outputs": [
    {
     "output_type": "execute_result",
     "data": {
      "text/plain": [
       "[1, 2, 1, 1]"
      ]
     },
     "metadata": {},
     "execution_count": 18
    }
   ],
   "source": [
    "currentRow"
   ]
  },
  {
   "cell_type": "code",
   "execution_count": 24,
   "metadata": {},
   "outputs": [],
   "source": [
    "tmp = currentRow"
   ]
  },
  {
   "cell_type": "code",
   "execution_count": 27,
   "metadata": {},
   "outputs": [],
   "source": [
    "currentRow = [1,1]"
   ]
  },
  {
   "cell_type": "code",
   "execution_count": 28,
   "metadata": {},
   "outputs": [
    {
     "output_type": "execute_result",
     "data": {
      "text/plain": [
       "[1, 2, 1, 1, 1]"
      ]
     },
     "metadata": {},
     "execution_count": 28
    }
   ],
   "source": [
    "tmp"
   ]
  },
  {
   "cell_type": "code",
   "execution_count": 23,
   "metadata": {},
   "outputs": [
    {
     "output_type": "stream",
     "name": "stdout",
     "text": [
      "2\n#\n3\n1\n#\n3\n"
     ]
    }
   ],
   "source": [
    "for i in range(1, len(currentRow) -1): \n",
    "    print(currentRow[i])\n",
    "    print(\"#\")\n",
    "    print(currentRow[i - 1] + currentRow[i])"
   ]
  },
  {
   "cell_type": "code",
   "execution_count": null,
   "metadata": {},
   "outputs": [],
   "source": [
    "class Solution:\n",
    "    def getRow(self, rowIndex: int) -> List[int]:\n",
    "        if rowIndex == 0:\n",
    "            return [1]\n",
    "        elif rowIndex == 1:\n",
    "            return [1, 1]\n",
    "        elif rowIndex == 2:\n",
    "            return [1, 2, 1]\n",
    "        else: \n",
    "            current = 2\n",
    "            currentRow = [1,2,1]\n",
    "            while current != rowIndex: \n",
    "                tmpRow = currentRow\n",
    "                currentRow = [1] * (len(tmpRow) + 1)\n",
    "                for i in range(1, len(currentRow) - 1): \n",
    "                    currentRow[i] = (tmpRow[i - 1] + tmpRow[i])\n",
    "                current += 1\n",
    "                \n",
    "            return currentRow"
   ]
  },
  {
   "cell_type": "code",
   "execution_count": null,
   "metadata": {},
   "outputs": [],
   "source": [
    "        triangle = [1]\n",
    "        \n",
    "        for i in range(1, rowIndex + 1):\n",
    "            triangle.append(int(triangle[i - 1] * (rowIndex - (i - 1)) / i))\n",
    "        \n",
    "        return triangle"
   ]
  }
 ]
}