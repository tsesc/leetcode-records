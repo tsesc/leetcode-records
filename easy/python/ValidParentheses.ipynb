{
 "metadata": {
  "language_info": {
   "codemirror_mode": {
    "name": "ipython",
    "version": 3
   },
   "file_extension": ".py",
   "mimetype": "text/x-python",
   "name": "python",
   "nbconvert_exporter": "python",
   "pygments_lexer": "ipython3",
   "version": "3.7.6-final"
  },
  "orig_nbformat": 2,
  "kernelspec": {
   "name": "python3",
   "display_name": "Python 3",
   "language": "python"
  }
 },
 "nbformat": 4,
 "nbformat_minor": 2,
 "cells": [
  {
   "cell_type": "code",
   "execution_count": 100,
   "metadata": {},
   "outputs": [],
   "source": [
    "s = '([)]'\n",
    "s = '{[]}'\n",
    "# s = '()'\n",
    "# s = '({[)'"
   ]
  },
  {
   "cell_type": "code",
   "execution_count": null,
   "metadata": {},
   "outputs": [],
   "source": [
    "def isValid(s) -> bool:\n",
    "    "
   ]
  },
  {
   "cell_type": "code",
   "execution_count": 39,
   "metadata": {},
   "outputs": [],
   "source": [
    "deep = 0\n",
    "bmap = {\n",
    "    '(': 0,\n",
    "    '[': 0,\n",
    "    '{': 0,\n",
    "}\n",
    "rmap = {\n",
    "    ')': '(',\n",
    "    ']': '[',\n",
    "    '}': '{',\n",
    "}"
   ]
  },
  {
   "cell_type": "code",
   "execution_count": 87,
   "metadata": {},
   "outputs": [
    {
     "output_type": "stream",
     "name": "stdout",
     "text": [
      "(\n{\n[\n)\n"
     ]
    },
    {
     "output_type": "execute_result",
     "data": {
      "text/plain": [
       "True"
      ]
     },
     "metadata": {},
     "execution_count": 87
    }
   ],
   "source": [
    "arr = []\n",
    "for i in s: \n",
    "    print(i)\n",
    "    if i in rmap and rmap[i] in arr: \n",
    "        del(arr[arr.index(rmap[i]):])\n",
    "        continue\n",
    "    arr.append(i)\n",
    "len(arr) == 0"
   ]
  },
  {
   "cell_type": "code",
   "execution_count": 104,
   "metadata": {},
   "outputs": [
    {
     "output_type": "stream",
     "name": "stdout",
     "text": [
      "([)]\n(\nbefore []\n['(']\n[\nbefore ['(']\n['(', '[']\n)\nbefore ['(', '[']\n['(', '[']\n]\nbefore ['(', '[']\n['(']\n"
     ]
    },
    {
     "output_type": "execute_result",
     "data": {
      "text/plain": [
       "False"
      ]
     },
     "metadata": {},
     "execution_count": 104
    }
   ],
   "source": [
    "opened = ['[', '(', '{']\n",
    "closed = [']', ')', '}']\n",
    "stack = []\n",
    "print(s)\n",
    "for c in s:\n",
    "    print(c)\n",
    "    print(f\"before {stack}\")\n",
    "    if c in opened:\n",
    "        stack.append(c)\n",
    "    else:\n",
    "        if len(stack) != 0 and stack[-1] == opened[closed.index(c)]:\n",
    "            stack.pop()\n",
    "        else:\n",
    "            False\n",
    "    print(stack)\n",
    "len(stack) == 0"
   ]
  },
  {
   "cell_type": "code",
   "execution_count": 79,
   "metadata": {},
   "outputs": [
    {
     "output_type": "execute_result",
     "data": {
      "text/plain": [
       "[']']"
      ]
     },
     "metadata": {},
     "execution_count": 79
    }
   ],
   "source": [
    "arr"
   ]
  },
  {
   "cell_type": "code",
   "execution_count": 89,
   "metadata": {},
   "outputs": [],
   "source": [
    "a = ['{', '[', '{']"
   ]
  },
  {
   "cell_type": "code",
   "execution_count": 91,
   "metadata": {},
   "outputs": [
    {
     "output_type": "execute_result",
     "data": {
      "text/plain": [
       "['{']"
      ]
     },
     "metadata": {},
     "execution_count": 91
    }
   ],
   "source": [
    "a.pop()\n",
    "a"
   ]
  },
  {
   "cell_type": "code",
   "execution_count": 65,
   "metadata": {},
   "outputs": [
    {
     "output_type": "execute_result",
     "data": {
      "text/plain": [
       "['{']"
      ]
     },
     "metadata": {},
     "execution_count": 65
    }
   ],
   "source": [
    "a"
   ]
  },
  {
   "cell_type": "code",
   "execution_count": null,
   "metadata": {},
   "outputs": [],
   "source": []
  },
  {
   "cell_type": "code",
   "execution_count": 27,
   "metadata": {},
   "outputs": [],
   "source": [
    "## wrong consider s = ([)]\n",
    "def isValid(s) -> bool:\n",
    "    bmap = {\n",
    "        '(': 0,\n",
    "        '[': 0,\n",
    "        '{': 0,\n",
    "    }\n",
    "    rmap = {\n",
    "        ')': '(',\n",
    "        ']': '[',\n",
    "        '}': '{',\n",
    "    }\n",
    "    for i in s: \n",
    "        if i in bmap: \n",
    "            bmap[i] += 1\n",
    "        else: \n",
    "            bmap[rmap[i]] -= 1\n",
    "    return list(bmap.values()).count(0) == len(bmap.values())    "
   ]
  },
  {
   "cell_type": "code",
   "execution_count": 28,
   "metadata": {},
   "outputs": [
    {
     "output_type": "execute_result",
     "data": {
      "text/plain": [
       "True"
      ]
     },
     "metadata": {},
     "execution_count": 28
    }
   ],
   "source": [
    "isValid(s)"
   ]
  },
  {
   "cell_type": "code",
   "execution_count": null,
   "metadata": {},
   "outputs": [],
   "source": []
  }
 ]
}