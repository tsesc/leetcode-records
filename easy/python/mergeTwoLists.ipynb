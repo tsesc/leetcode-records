{
 "metadata": {
  "language_info": {
   "codemirror_mode": {
    "name": "ipython",
    "version": 3
   },
   "file_extension": ".py",
   "mimetype": "text/x-python",
   "name": "python",
   "nbconvert_exporter": "python",
   "pygments_lexer": "ipython3",
   "version": "3.7.4-final"
  },
  "orig_nbformat": 2,
  "kernelspec": {
   "name": "python3",
   "display_name": "Python 3",
   "language": "python"
  }
 },
 "nbformat": 4,
 "nbformat_minor": 2,
 "cells": [
  {
   "cell_type": "code",
   "execution_count": null,
   "metadata": {},
   "outputs": [],
   "source": [
    "# https://leetcode.com/problems/merge-two-sorted-lists/"
   ]
  },
  {
   "cell_type": "code",
   "execution_count": 1,
   "metadata": {},
   "outputs": [],
   "source": [
    "class ListNode:\n",
    "    def __init__(self, val=0, next=None):\n",
    "        self.val = val\n",
    "        self.next = next"
   ]
  },
  {
   "cell_type": "code",
   "execution_count": null,
   "metadata": {},
   "outputs": [],
   "source": [
    "# Definition for singly-linked list.\n",
    "# class ListNode:\n",
    "#     def __init__(self, val=0, next=None):\n",
    "#         self.val = val\n",
    "#         self.next = next\n",
    "class Solution:\n",
    "    def mergeTwoLists(self, l1: ListNode, l2: ListNode) -> ListNode:\n",
    "    \n",
    "        if l1 == None and l2 == None: \n",
    "            return None\n",
    "        else:\n",
    "            if l1 == None: \n",
    "                return ListNode(l2.val, self.mergeTwoLists(None, l2.next))\n",
    "            elif l2 == None:\n",
    "                return ListNode(l1.val, self.mergeTwoLists(l1.next, None))\n",
    "            else:\n",
    "                if l1.val <= l2.val: \n",
    "                    val = l1.val\n",
    "                    l1 = l1.next \n",
    "                else: \n",
    "                    val = l2.val\n",
    "                    l2 = l2.next\n",
    "                return ListNode(val, self.mergeTwoLists(l1, l2))\n",
    "\n",
    "        "
   ]
  }
 ]
}