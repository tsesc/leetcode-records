{
 "metadata": {
  "language_info": {
   "codemirror_mode": {
    "name": "ipython",
    "version": 3
   },
   "file_extension": ".py",
   "mimetype": "text/x-python",
   "name": "python",
   "nbconvert_exporter": "python",
   "pygments_lexer": "ipython3",
   "version": "3.7.4-final"
  },
  "orig_nbformat": 2,
  "kernelspec": {
   "name": "python3",
   "display_name": "Python 3",
   "language": "python"
  }
 },
 "nbformat": 4,
 "nbformat_minor": 2,
 "cells": [
  {
   "cell_type": "code",
   "execution_count": null,
   "metadata": {},
   "outputs": [],
   "source": [
    "# https://leetcode.com/problems/remove-duplicates-from-sorted-array/"
   ]
  },
  {
   "cell_type": "code",
   "execution_count": 19,
   "metadata": {},
   "outputs": [],
   "source": [
    "nums = [0,0,1,1,1,2,2,3,3,4]\n"
   ]
  },
  {
   "cell_type": "code",
   "execution_count": 9,
   "metadata": {},
   "outputs": [],
   "source": [
    "def removeDuplicates(nums) -> int:\n",
    "\n",
    "        index = 1\n",
    "        \n",
    "        while index < len(nums):\n",
    "            print(f\"index:{index}, len(nums):{len(nums)}\")\n",
    "            print(f\"nums[index]:{nums[index]}, nums[index-1]:{nums[index-1]}\")\n",
    "            if nums[index] == nums[index-1]:\n",
    "                nums.pop(index)\n",
    "            else:\n",
    "                index += 1\n",
    "        return len(nums)"
   ]
  },
  {
   "cell_type": "code",
   "execution_count": 20,
   "metadata": {},
   "outputs": [
    {
     "output_type": "stream",
     "name": "stdout",
     "text": [
      "[0, 0, 1, 1, 1, 2, 2, 3, 3, 4]\n[length]:0, [i]:1\nnums[length]:0, nums[i]:0\n[length]:0, [i]:2\nnums[length]:0, nums[i]:1\n[length]:1, [i]:3\nnums[length]:1, nums[i]:1\n[length]:1, [i]:4\nnums[length]:1, nums[i]:1\n[length]:1, [i]:5\nnums[length]:1, nums[i]:2\n[length]:2, [i]:6\nnums[length]:2, nums[i]:2\n[length]:2, [i]:7\nnums[length]:2, nums[i]:3\n[length]:3, [i]:8\nnums[length]:3, nums[i]:3\n[length]:3, [i]:9\nnums[length]:3, nums[i]:4\n[0, 1, 2, 3, 4, 2, 2, 3, 3, 4]\n"
     ]
    },
    {
     "output_type": "execute_result",
     "data": {
      "text/plain": [
       "5"
      ]
     },
     "metadata": {},
     "execution_count": 20
    }
   ],
   "source": [
    "removeDuplicates(nums)"
   ]
  },
  {
   "cell_type": "code",
   "execution_count": 17,
   "metadata": {},
   "outputs": [],
   "source": [
    "def removeDuplicates(nums) -> int:\n",
    "        print(nums)\n",
    "        length = 0\n",
    "        if len(nums) == 0: return length\n",
    "        for i in range(1,len(nums)):\n",
    "            print(f\"[length]:{length}, [i]:{i}\")\n",
    "            print(f\"nums[length]:{nums[length]}, nums[i]:{nums[i]}\")\n",
    "            if nums[length] < nums[i]:\n",
    "                length += 1\n",
    "                nums[length] = nums[i]\n",
    "        print(nums)\n",
    "        return length+1"
   ]
  },
  {
   "cell_type": "code",
   "execution_count": 21,
   "metadata": {},
   "outputs": [
    {
     "output_type": "execute_result",
     "data": {
      "text/plain": [
       "[0, 1, 2, 3, 4, 2, 2, 3, 3, 4]"
      ]
     },
     "metadata": {},
     "execution_count": 21
    }
   ],
   "source": [
    "nums"
   ]
  },
  {
   "cell_type": "code",
   "execution_count": null,
   "metadata": {},
   "outputs": [],
   "source": []
  }
 ]
}