{
 "metadata": {
  "language_info": {
   "codemirror_mode": {
    "name": "ipython",
    "version": 3
   },
   "file_extension": ".py",
   "mimetype": "text/x-python",
   "name": "python",
   "nbconvert_exporter": "python",
   "pygments_lexer": "ipython3",
   "version": "3.7.4-final"
  },
  "orig_nbformat": 2,
  "kernelspec": {
   "name": "python3",
   "display_name": "Python 3",
   "language": "python"
  }
 },
 "nbformat": 4,
 "nbformat_minor": 2,
 "cells": [
  {
   "cell_type": "code",
   "execution_count": null,
   "metadata": {},
   "outputs": [],
   "source": [
    "# https://leetcode.com/problems/search-insert-position/"
   ]
  },
  {
   "cell_type": "code",
   "execution_count": 36,
   "metadata": {},
   "outputs": [],
   "source": [
    "nums = [1,3,5,6]\n",
    "# target = 2\n",
    "# target = 7\n",
    "# target = 5\n",
    "target = 0"
   ]
  },
  {
   "cell_type": "code",
   "execution_count": 41,
   "metadata": {},
   "outputs": [
    {
     "output_type": "stream",
     "name": "stdout",
     "text": [
      "before:1, x:1\n"
     ]
    },
    {
     "output_type": "execute_result",
     "data": {
      "text/plain": [
       "0"
      ]
     },
     "metadata": {},
     "execution_count": 41
    }
   ],
   "source": [
    "a = searchInsert(nums, target)\n",
    "a"
   ]
  },
  {
   "cell_type": "code",
   "execution_count": 40,
   "metadata": {},
   "outputs": [],
   "source": [
    "# without bsearch \n",
    "def searchInsert(nums: [], target: int) -> int:\n",
    "    before = nums[0]    \n",
    "    before_index = 0 \n",
    "    for i, x in enumerate(nums): \n",
    "        print(f\"before:{before}, x:{x}\")\n",
    "        if x == target: \n",
    "            return i \n",
    "        elif target < before and target > x: \n",
    "            # nums.insert(before_index, target)\n",
    "            return before_index\n",
    "        elif target < x: \n",
    "            # nums.insert(before_index, target)\n",
    "            return i\n",
    "        before = x\n",
    "        before_index = i \n",
    "\n",
    "    return len(nums)\n"
   ]
  },
  {
   "cell_type": "code",
   "execution_count": 42,
   "metadata": {},
   "outputs": [],
   "source": [
    "def searchInsert(self, nums, target): # works even if there are duplicates. \n",
    "    l , r = 0, len(nums)-1\n",
    "    while l <= r:\n",
    "        mid=int((l+r)/2)\n",
    "        if nums[mid] < target:\n",
    "            l = mid+1\n",
    "        else:\n",
    "            if nums[mid]== target and nums[mid-1]!=target:\n",
    "                return mid\n",
    "            else:\n",
    "                r = mid-1\n",
    "    return l\n"
   ]
  },
  {
   "cell_type": "code",
   "execution_count": null,
   "metadata": {},
   "outputs": [],
   "source": []
  }
 ]
}