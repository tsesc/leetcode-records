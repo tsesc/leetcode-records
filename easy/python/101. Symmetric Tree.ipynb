{
 "metadata": {
  "language_info": {
   "codemirror_mode": {
    "name": "ipython",
    "version": 3
   },
   "file_extension": ".py",
   "mimetype": "text/x-python",
   "name": "python",
   "nbconvert_exporter": "python",
   "pygments_lexer": "ipython3",
   "version": "3.7.4-final"
  },
  "orig_nbformat": 2,
  "kernelspec": {
   "name": "python3",
   "display_name": "Python 3",
   "language": "python"
  }
 },
 "nbformat": 4,
 "nbformat_minor": 2,
 "cells": [
  {
   "cell_type": "code",
   "execution_count": null,
   "metadata": {},
   "outputs": [],
   "source": [
    "# https://leetcode.com/problems/symmetric-tree/"
   ]
  },
  {
   "cell_type": "code",
   "execution_count": null,
   "metadata": {},
   "outputs": [],
   "source": [
    "            1\n",
    "        2       2\n",
    "    3       44      3\n",
    "5       67  88  7   6   5"
   ]
  },
  {
   "cell_type": "code",
   "execution_count": null,
   "metadata": {},
   "outputs": [],
   "source": []
  },
  {
   "cell_type": "code",
   "execution_count": 3,
   "metadata": {},
   "outputs": [
    {
     "output_type": "stream",
     "name": "stdout",
     "text": [
      "None\n"
     ]
    }
   ],
   "source": [
    "# Definition for a binary tree node.\n",
    "# class TreeNode:\n",
    "#     def __init__(self, val=0, left=None, right=None):\n",
    "#         self.val = val\n",
    "#         self.left = left\n",
    "#         self.right = right\n",
    "class Solution:\n",
    "    def isSymmetric(self, root: TreeNode) -> bool:\n",
    "        if root == None: \n",
    "            return True\n",
    "        else: \n",
    "            return self.compare(root.left, root.right)\n",
    "    \n",
    "    \n",
    "    def compare(self, left, right): \n",
    "        if left and right:\n",
    "            return left.val == right.val and self.compare(left.left, right.right) and self.compare(left.right, right.left)\n",
    "        else: \n",
    "            return left == right"
   ]
  },
  {
   "cell_type": "code",
   "execution_count": null,
   "metadata": {},
   "outputs": [],
   "source": [
    "# Definition for a binary tree node.\n",
    "# class TreeNode:\n",
    "#     def __init__(self, val=0, left=None, right=None):\n",
    "#         self.val = val\n",
    "#         self.left = left\n",
    "#         self.right = right\n",
    "class Solution:\n",
    "    def isSymmetric(self, root: TreeNode) -> bool:\n",
    "        if not root:\n",
    "            return True\n",
    "        stack = [(root.left, root.right)]\n",
    "        while stack:\n",
    "            l, r = stack.pop()\n",
    "            if not l and not r:\n",
    "                continue\n",
    "            if not l or not r:\n",
    "                return False\n",
    "            if l.val != r.val:\n",
    "                return False\n",
    "            stack.append((l.left, r.right))\n",
    "            stack.append((l.right, r.left))\n",
    "        return True\n",
    "        "
   ]
  }
 ]
}