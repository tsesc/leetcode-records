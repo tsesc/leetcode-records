{
 "metadata": {
  "language_info": {
   "codemirror_mode": {
    "name": "ipython",
    "version": 3
   },
   "file_extension": ".py",
   "mimetype": "text/x-python",
   "name": "python",
   "nbconvert_exporter": "python",
   "pygments_lexer": "ipython3",
   "version": "3.7.6-final"
  },
  "orig_nbformat": 2,
  "kernelspec": {
   "name": "python3",
   "display_name": "Python 3",
   "language": "python"
  }
 },
 "nbformat": 4,
 "nbformat_minor": 2,
 "cells": [
  {
   "cell_type": "code",
   "execution_count": 47,
   "metadata": {},
   "outputs": [],
   "source": [
    "class Solution:\n",
    "    rv_map = {\n",
    "     \"I\": 1,\n",
    "     \"V\": 5,\n",
    "     \"X\": 10,\n",
    "     \"L\": 50,\n",
    "     \"C\": 100,\n",
    "     \"D\": 500,\n",
    "     \"M\": 1000,\n",
    "    }\n",
    "    current_marker = ''\n",
    "    marker = ('I', 'X', 'C')\n",
    "    markable = ('V', 'X', 'L', 'C', 'D', 'M')\n",
    "    def romanToInt(self, s: str) -> int:\n",
    "        final = 0\n",
    "        \n",
    "        for i in list(s):\n",
    "            if i in self.marker: \n",
    "                self.current_marker = i \n",
    "                continue\n",
    "      \n",
    "            if self.current_marker != '' and i in self.markable: \n",
    "                final += self.rv_map[i] - self.rv_map[self.current_marker]\n",
    "                continue\n",
    "            else if current_marker != '' \n",
    "                final += rv_map[i]\n",
    "                current_marker = ''\n",
    "                continue\n",
    "            \n",
    "            final += self.rv_map[i]\n",
    "        return final "
   ]
  },
  {
   "cell_type": "code",
   "execution_count": 48,
   "metadata": {},
   "outputs": [],
   "source": [
    "rv_map = Solution.romanToInt(Solution, '1231')"
   ]
  },
  {
   "cell_type": "code",
   "execution_count": 77,
   "metadata": {},
   "outputs": [
    {
     "output_type": "execute_result",
     "data": {
      "text/plain": [
       "dict"
      ]
     },
     "metadata": {},
     "execution_count": 77
    }
   ],
   "source": [
    "type(rv_map)"
   ]
  },
  {
   "cell_type": "code",
   "execution_count": 86,
   "metadata": {},
   "outputs": [],
   "source": [
    "s = \"III\"\n",
    "current_marker = ''\n",
    "marker = ('I', 'X', 'C')\n",
    "markable = ('V', 'X', 'L', 'C', 'D', 'M')\n",
    "final = 0"
   ]
  },
  {
   "cell_type": "code",
   "execution_count": 87,
   "metadata": {},
   "outputs": [],
   "source": [
    "for i in list(s):\n",
    "    romanLen = len(s) - 1\n",
    "\n",
    "    if current_marker != '' and i in markable: \n",
    "        final += rv_map[i] - rv_map[current_marker]\n",
    "        current_marker = ''\n",
    "        continue\n",
    "    elif current_marker != '':\n",
    "\n",
    "        final += rv_map[i]\n",
    "        final += rv_map[current_marker]\n",
    "        current_marker = ''\n",
    "        continue\n",
    "\n",
    "    if i in marker: \n",
    "        current_marker = i \n",
    "        continue\n",
    "    final += rv_map[i]\n",
    "\n",
    "    "
   ]
  },
  {
   "cell_type": "code",
   "execution_count": 88,
   "metadata": {},
   "outputs": [
    {
     "output_type": "execute_result",
     "data": {
      "text/plain": [
       "2"
      ]
     },
     "metadata": {},
     "execution_count": 88
    }
   ],
   "source": [
    "final"
   ]
  },
  {
   "cell_type": "code",
   "execution_count": 78,
   "metadata": {},
   "outputs": [],
   "source": [
    "warn_map = {}"
   ]
  },
  {
   "cell_type": "code",
   "execution_count": 79,
   "metadata": {},
   "outputs": [],
   "source": [
    "warn_map[0] = 100\n"
   ]
  },
  {
   "cell_type": "code",
   "execution_count": 76,
   "metadata": {},
   "outputs": [
    {
     "output_type": "stream",
     "name": "stdout",
     "text": [
      "0\nI\n1\nI\n2\nI\n"
     ]
    }
   ],
   "source": [
    "for i, v in enumerate(s):\n",
    "    if v in self.marker: \n",
    "        warn_map[i+1] = self.rv_map[v]\n",
    "        continue \n",
    "    if "
   ]
  },
  {
   "cell_type": "code",
   "execution_count": null,
   "metadata": {},
   "outputs": [],
   "source": [
    "def romanToInt(self, s: str) -> int:\n",
    "\tres, prev = 0, 0\n",
    "\tdict = {'I':1, 'V':5, 'X':10, 'L':50, 'C':100, 'D':500, 'M':1000}\n",
    "\tfor i in s[::-1]:          # rev the s\n",
    "\t\tif dict[i] >= prev:\n",
    "\t\t\tres += dict[i]     # sum the value iff previous value same or more\n",
    "\t\telse:\n",
    "\t\t\tres -= dict[i]     # substract when value is like \"IV\" --> 5-1, \"IX\" --> 10 -1 etc \n",
    "\t\tprev = dict[i]\n",
    "\treturn res"
   ]
  }
 ]
}