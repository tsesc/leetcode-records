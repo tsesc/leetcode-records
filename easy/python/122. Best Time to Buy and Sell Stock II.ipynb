{
 "metadata": {
  "language_info": {
   "codemirror_mode": {
    "name": "ipython",
    "version": 3
   },
   "file_extension": ".py",
   "mimetype": "text/x-python",
   "name": "python",
   "nbconvert_exporter": "python",
   "pygments_lexer": "ipython3",
   "version": 3
  },
  "orig_nbformat": 2
 },
 "nbformat": 4,
 "nbformat_minor": 2,
 "cells": [
  {
   "cell_type": "code",
   "execution_count": null,
   "metadata": {},
   "outputs": [],
   "source": [
    "# https://leetcode.com/problems/best-time-to-buy-and-sell-stock-ii/"
   ]
  },
  {
   "cell_type": "code",
   "execution_count": null,
   "metadata": {},
   "outputs": [],
   "source": [
    "class Solution:\n",
    "    def maxProfit(self, prices: List[int]) -> int:                \n",
    "        if len(prices) == 1: # edge case\n",
    "            return 0\n",
    "        \n",
    "        # take down positive daily return only\n",
    "        profit = [] \n",
    "        for i in range(1, len(prices)):\n",
    "            profit.append(max(0, prices[i] - prices[i-1])) \n",
    "        return sum(profit)"
   ]
  }
 ]
}